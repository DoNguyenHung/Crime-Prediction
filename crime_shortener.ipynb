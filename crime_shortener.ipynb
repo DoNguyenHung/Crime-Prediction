{
 "cells": [
  {
   "cell_type": "code",
   "execution_count": 10,
   "metadata": {},
   "outputs": [
    {
     "name": "stdout",
     "output_type": "stream",
     "text": [
      "[['TYPE' 'YEAR' 'MONTH' ... 'Y' 'Latitude' 'Longitude']\n",
      " ['Break and Enter Commercial' '2006' '12' ... '5455338.57' '49.2507732'\n",
      "  '-123.101053']\n",
      " ['Other Theft' '2005' '3' ... '5458710.94' '49.28113596' '-123.0618933']\n",
      " ...\n",
      " ['Theft from Vehicle' '2005' '12' ... '5459036.23' '49.28401453'\n",
      "  '-123.1216657']\n",
      " ['Theft of Vehicle' '2003' '3' ... '5458940.06' '49.28312638'\n",
      "  '-123.1419082']\n",
      " ['Offence Against a Person' '2008' '2' ... '0' '0' '0']]\n"
     ]
    }
   ],
   "source": [
    "from PIL import Image\n",
    "import numpy as np\n",
    "import pandas as pd\n",
    "import matplotlib.pyplot as plt\n",
    "import os\n",
    "import csv\n",
    "import sys\n",
    "\n",
    "df = np.genfromtxt('crime.csv', delimiter=',', dtype=str)\n",
    "\n",
    "first_row = df[0]\n",
    "df = np.delete(df, (0), axis=0)\n",
    "\n",
    "# np.random.seed(0)\n",
    "np.random.shuffle(df)\n",
    "\n",
    "df = np.vstack((first_row, df))\n",
    "\n",
    "df = df[0:5000, :]\n",
    "\n",
    "print(df)\n",
    "\n",
    "np.savetxt(\"crime_shortened.csv\", df, delimiter=\",\", fmt=\"%s\")\n"
   ]
  }
 ],
 "metadata": {
  "kernelspec": {
   "display_name": "Python 3",
   "language": "python",
   "name": "python3"
  },
  "language_info": {
   "codemirror_mode": {
    "name": "ipython",
    "version": 3
   },
   "file_extension": ".py",
   "mimetype": "text/x-python",
   "name": "python",
   "nbconvert_exporter": "python",
   "pygments_lexer": "ipython3",
   "version": "3.10.11"
  },
  "orig_nbformat": 4,
  "vscode": {
   "interpreter": {
    "hash": "9121c89f9934acd00561cd54525e16717599c67e6e0655945e2fcf5b4dea365d"
   }
  }
 },
 "nbformat": 4,
 "nbformat_minor": 2
}
