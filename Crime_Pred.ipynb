{
 "cells": [
  {
   "cell_type": "code",
   "execution_count": 32,
   "metadata": {},
   "outputs": [],
   "source": [
    "from PIL import Image\n",
    "import numpy as np\n",
    "import pandas as pd\n",
    "import matplotlib.pyplot as plt\n",
    "import os\n",
    "import csv\n",
    "import sys\n",
    "\n",
    "K = 9\n",
    "z_score = False\n",
    "np.set_printoptions(suppress=True)\n",
    "\n",
    "# Get rid of Year, Month, Day columns\n",
    "# Find a way to add the columns to a list and assign numbers to them\n",
    "# No need to z-score because data is categorical\n",
    "# Remember to shuffle and get 2/3 for training and 1/3 for validation\n",
    "# Get rid of columns that have empty cells OFFSET TO PROTECT PRIVACY"
   ]
  },
  {
   "cell_type": "code",
   "execution_count": 33,
   "metadata": {},
   "outputs": [
    {
     "name": "stdout",
     "output_type": "stream",
     "text": [
      "[[      0.0000001       17.               0.0000001  ... 5455338.57\n",
      "       49.2507732     -123.101053  ]\n",
      " [      1.              23.              16.         ... 5458710.94\n",
      "       49.28113596    -123.0618933 ]\n",
      " [      2.              10.              50.         ... 5458476.5\n",
      "       49.27897786    -123.1233611 ]\n",
      " ...\n",
      " [      3.              11.               0.0000001  ... 5459036.23\n",
      "       49.28401453    -123.1216657 ]\n",
      " [      5.               0.0000001        0.0000001  ... 5458940.06\n",
      "       49.28312638    -123.1419082 ]\n",
      " [      7.              14.              14.         ...       0.0000001\n",
      "        0.0000001        0.0000001 ]]\n"
     ]
    }
   ],
   "source": [
    "np.set_printoptions(suppress=True)\n",
    "# np.set_printoptions(threshold=np.inf)\n",
    "# np.set_printoptions(linewidth=np.inf)\n",
    "\n",
    "data_matrix = np.genfromtxt('crime_shortened.csv', delimiter=',', dtype=str)\n",
    "# data_matrix = np.genfromtxt('crime.csv', delimiter=',', dtype=str)\n",
    "\n",
    "# Removes first row\n",
    "data_matrix = np.delete(data_matrix, (0), axis=0)\n",
    "\n",
    "# Removes Year, Month, Day columns\n",
    "data_matrix = np.delete(data_matrix, (1, 2, 3), axis=1)\n",
    "\n",
    "type = []\n",
    "hundred_block = []\n",
    "neighborhood = []\n",
    "\n",
    "\n",
    "for row in range(0, len(data_matrix)):\n",
    "    for col in range(0, len(data_matrix[0])):\n",
    "        if data_matrix[row][0] not in type:\n",
    "            type.append(data_matrix[row][0])\n",
    "\n",
    "        if data_matrix[row][3] not in hundred_block:\n",
    "            hundred_block.append(data_matrix[row][3])\n",
    "\n",
    "        if data_matrix[row][4] not in neighborhood:\n",
    "            neighborhood.append(data_matrix[row][4])\n",
    "\n",
    "for row in range(0, len(data_matrix)):\n",
    "    for col in range(0, len(data_matrix[0])):\n",
    "        current = data_matrix[row][col]\n",
    "\n",
    "        if data_matrix[row][col] in type:\n",
    "            data_matrix[row][col] = type.index(current)\n",
    "        \n",
    "        elif data_matrix[row][col] in hundred_block:\n",
    "            data_matrix[row][col] = hundred_block.index(current)\n",
    "\n",
    "        elif data_matrix[row][col] in neighborhood:\n",
    "            data_matrix[row][col] = neighborhood.index(current)\n",
    "        \n",
    "        \n",
    "        if data_matrix[row][col] == '0':\n",
    "            data_matrix[row][col] = '0.0000001'\n",
    "\n",
    "\n",
    "data_matrix = data_matrix.astype(float)\n",
    "print(data_matrix)\n",
    "\n",
    "# Shuffles observations\n",
    "np.random.shuffle(data_matrix)"
   ]
  },
  {
   "cell_type": "code",
   "execution_count": 34,
   "metadata": {},
   "outputs": [
    {
     "name": "stdout",
     "output_type": "stream",
     "text": [
      "(3333, 9)\n",
      "(1666, 9)\n"
     ]
    }
   ],
   "source": [
    "threshold = round(2/3 * len(data_matrix))\n",
    "\n",
    "# Training gets first 2/3\n",
    "X_train = data_matrix[0:threshold, :]\n",
    "#Validation gets remaining\n",
    "X_valid = data_matrix[threshold:len(data_matrix), :]\n",
    "\n",
    "print(np.shape(X_train))\n",
    "print(np.shape(X_valid))\n",
    "\n",
    "# Y data is removed from the last column\n",
    "Y_train = X_train[:, 0]\n",
    "Y_valid = X_valid[:, 0]\n",
    "\n",
    "X_train = np.delete(X_train, (0), axis=1)\n",
    "X_valid = np.delete(X_valid, (0), axis=1)"
   ]
  },
  {
   "cell_type": "code",
   "execution_count": 35,
   "metadata": {},
   "outputs": [],
   "source": [
    "def myKNN(my_X_train, my_X_valid, my_Y_train, my_Y_valid):\n",
    "    my_Y_hat = []\n",
    "    for valid in my_X_valid:\n",
    "        \n",
    "        neighbors = []\n",
    "        neighbors_index = []\n",
    "\n",
    "        for train in my_X_train:\n",
    "            # Computes distance for each feature\n",
    "            subtracted_arr = np.absolute(valid - train)\n",
    "            # Computes total distance\n",
    "            distance = np.sum(subtracted_arr)\n",
    "            # Adds this distance to an array\n",
    "            neighbors = np.append(neighbors, distance)\n",
    "\n",
    "        # Gets index of K smallest numbers\n",
    "        neighbors_index = np.argsort(neighbors)[:K]\n",
    "        \n",
    "\n",
    "        # Gets most consistent Y value (while converting float to int)\n",
    "        temp = []\n",
    "        for n in neighbors_index:\n",
    "            temp = np.append(temp, my_Y_train[n])\n",
    "        \n",
    "        temp = temp.astype(int)\n",
    "        counts = np.bincount(temp)\n",
    "        most_common = np.argmax(counts)\n",
    "        my_Y_hat = np.append(my_Y_hat, most_common)\n",
    "\n",
    "    return my_Y_hat"
   ]
  },
  {
   "cell_type": "code",
   "execution_count": 36,
   "metadata": {},
   "outputs": [
    {
     "name": "stdout",
     "output_type": "stream",
     "text": [
      "The validation accuracy is 43.52 percent.\n"
     ]
    }
   ],
   "source": [
    "# Prints validation accuracy\n",
    "score = 0\n",
    "\n",
    "Y_hat = myKNN(X_train, X_valid, Y_train, Y_valid)\n",
    "\n",
    "for i in range(0, Y_valid.size):\n",
    "# If it's equal to X_train, adds score\n",
    "    if Y_hat[i] == Y_valid[i]:\n",
    "        score += 1\n",
    "\n",
    "# Finds accuracy and print\n",
    "accuracy = score / Y_valid.size * 100\n",
    "print(\"The validation accuracy is %.2f percent.\" %(accuracy))"
   ]
  },
  {
   "cell_type": "code",
   "execution_count": 37,
   "metadata": {},
   "outputs": [
    {
     "name": "stdout",
     "output_type": "stream",
     "text": [
      "[[105   2  28 ...   0   0  14]\n",
      " [ 11  38  95 ...   0   0   9]\n",
      " [ 43  69 385 ...   0   0  19]\n",
      " ...\n",
      " [  0   0   0 ...   0   0   0]\n",
      " [  0   0   0 ...   0   0   0]\n",
      " [ 13   7  63 ...   0   0  11]]\n"
     ]
    }
   ],
   "source": [
    "# Prints confusion matrix\n",
    "confusion_matrix = np.zeros((np.size(Y_hat), np.size(Y_hat)))\n",
    "\n",
    "Y_valid = Y_valid.astype(int)\n",
    "Y_hat = Y_hat.astype(int)\n",
    "confusion_matrix = confusion_matrix.astype(int)\n",
    "\n",
    "for i in range(0, Y_valid.size):\n",
    "    h = Y_hat[i] - 1\n",
    "    t = Y_valid[i] - 1\n",
    "\n",
    "    confusion_matrix[t][h] += 1\n",
    "\n",
    "print(confusion_matrix)"
   ]
  }
 ],
 "metadata": {
  "kernelspec": {
   "display_name": "Python 3",
   "language": "python",
   "name": "python3"
  },
  "language_info": {
   "codemirror_mode": {
    "name": "ipython",
    "version": 3
   },
   "file_extension": ".py",
   "mimetype": "text/x-python",
   "name": "python",
   "nbconvert_exporter": "python",
   "pygments_lexer": "ipython3",
   "version": "3.10.11"
  },
  "orig_nbformat": 4,
  "vscode": {
   "interpreter": {
    "hash": "9121c89f9934acd00561cd54525e16717599c67e6e0655945e2fcf5b4dea365d"
   }
  }
 },
 "nbformat": 4,
 "nbformat_minor": 2
}
